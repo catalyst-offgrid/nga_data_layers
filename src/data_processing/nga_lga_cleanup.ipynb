{
 "cells": [
  {
   "cell_type": "code",
   "execution_count": 1,
   "metadata": {},
   "outputs": [],
   "source": [
    "import numpy as np\n",
    "import pandas as pd\n",
    "pd.set_option('display.max_rows', 10)\n",
    "import json"
   ]
  },
  {
   "cell_type": "code",
   "execution_count": 2,
   "metadata": {},
   "outputs": [
    {
     "data": {
      "text/html": [
       "<div>\n",
       "<style scoped>\n",
       "    .dataframe tbody tr th:only-of-type {\n",
       "        vertical-align: middle;\n",
       "    }\n",
       "\n",
       "    .dataframe tbody tr th {\n",
       "        vertical-align: top;\n",
       "    }\n",
       "\n",
       "    .dataframe thead th {\n",
       "        text-align: right;\n",
       "    }\n",
       "</style>\n",
       "<table border=\"1\" class=\"dataframe\">\n",
       "  <thead>\n",
       "    <tr style=\"text-align: right;\">\n",
       "      <th></th>\n",
       "      <th>is_missing</th>\n",
       "      <th>labl</th>\n",
       "      <th>stats</th>\n",
       "      <th>value</th>\n",
       "    </tr>\n",
       "  </thead>\n",
       "  <tbody>\n",
       "    <tr>\n",
       "      <th>0</th>\n",
       "      <td>None</td>\n",
       "      <td>101. ABA NORTH</td>\n",
       "      <td>[{'value': '0', 'type': 'freq', 'wgtd': None}]</td>\n",
       "      <td>101</td>\n",
       "    </tr>\n",
       "    <tr>\n",
       "      <th>1</th>\n",
       "      <td>None</td>\n",
       "      <td>102. ABA SOUTH</td>\n",
       "      <td>[{'value': '178', 'type': 'freq', 'wgtd': None}]</td>\n",
       "      <td>102</td>\n",
       "    </tr>\n",
       "    <tr>\n",
       "      <th>2</th>\n",
       "      <td>None</td>\n",
       "      <td>103. AROCHUKWU</td>\n",
       "      <td>[{'value': '0', 'type': 'freq', 'wgtd': None}]</td>\n",
       "      <td>103</td>\n",
       "    </tr>\n",
       "    <tr>\n",
       "      <th>3</th>\n",
       "      <td>None</td>\n",
       "      <td>104. BENDE</td>\n",
       "      <td>[{'value': '67', 'type': 'freq', 'wgtd': None}]</td>\n",
       "      <td>104</td>\n",
       "    </tr>\n",
       "    <tr>\n",
       "      <th>4</th>\n",
       "      <td>None</td>\n",
       "      <td>105. IKWUANO</td>\n",
       "      <td>[{'value': '32', 'type': 'freq', 'wgtd': None}]</td>\n",
       "      <td>105</td>\n",
       "    </tr>\n",
       "  </tbody>\n",
       "</table>\n",
       "</div>"
      ],
      "text/plain": [
       "  is_missing            labl  \\\n",
       "0       None  101. ABA NORTH   \n",
       "1       None  102. ABA SOUTH   \n",
       "2       None  103. AROCHUKWU   \n",
       "3       None      104. BENDE   \n",
       "4       None    105. IKWUANO   \n",
       "\n",
       "                                              stats value  \n",
       "0    [{'value': '0', 'type': 'freq', 'wgtd': None}]   101  \n",
       "1  [{'value': '178', 'type': 'freq', 'wgtd': None}]   102  \n",
       "2    [{'value': '0', 'type': 'freq', 'wgtd': None}]   103  \n",
       "3   [{'value': '67', 'type': 'freq', 'wgtd': None}]   104  \n",
       "4   [{'value': '32', 'type': 'freq', 'wgtd': None}]   105  "
      ]
     },
     "execution_count": 2,
     "metadata": {},
     "output_type": "execute_result"
    }
   ],
   "source": [
    "with open('nga_lga.json') as json_data:\n",
    "    data = json.load(json_data)\n",
    "\n",
    "data_subset = data['var_catgry']\n",
    "df = pd.DataFrame(data_subset)\n",
    "df.head()"
   ]
  },
  {
   "cell_type": "code",
   "execution_count": 3,
   "metadata": {},
   "outputs": [
    {
     "data": {
      "text/html": [
       "<div>\n",
       "<style scoped>\n",
       "    .dataframe tbody tr th:only-of-type {\n",
       "        vertical-align: middle;\n",
       "    }\n",
       "\n",
       "    .dataframe tbody tr th {\n",
       "        vertical-align: top;\n",
       "    }\n",
       "\n",
       "    .dataframe thead th {\n",
       "        text-align: right;\n",
       "    }\n",
       "</style>\n",
       "<table border=\"1\" class=\"dataframe\">\n",
       "  <thead>\n",
       "    <tr style=\"text-align: right;\">\n",
       "      <th></th>\n",
       "      <th>value</th>\n",
       "      <th>labl</th>\n",
       "    </tr>\n",
       "  </thead>\n",
       "  <tbody>\n",
       "    <tr>\n",
       "      <th>0</th>\n",
       "      <td>101</td>\n",
       "      <td>101. ABA NORTH</td>\n",
       "    </tr>\n",
       "    <tr>\n",
       "      <th>1</th>\n",
       "      <td>102</td>\n",
       "      <td>102. ABA SOUTH</td>\n",
       "    </tr>\n",
       "    <tr>\n",
       "      <th>2</th>\n",
       "      <td>103</td>\n",
       "      <td>103. AROCHUKWU</td>\n",
       "    </tr>\n",
       "    <tr>\n",
       "      <th>3</th>\n",
       "      <td>104</td>\n",
       "      <td>104. BENDE</td>\n",
       "    </tr>\n",
       "    <tr>\n",
       "      <th>4</th>\n",
       "      <td>105</td>\n",
       "      <td>105. IKWUANO</td>\n",
       "    </tr>\n",
       "  </tbody>\n",
       "</table>\n",
       "</div>"
      ],
      "text/plain": [
       "  value            labl\n",
       "0   101  101. ABA NORTH\n",
       "1   102  102. ABA SOUTH\n",
       "2   103  103. AROCHUKWU\n",
       "3   104      104. BENDE\n",
       "4   105    105. IKWUANO"
      ]
     },
     "execution_count": 3,
     "metadata": {},
     "output_type": "execute_result"
    }
   ],
   "source": [
    "df = df[['value','labl']]\n",
    "df.head()"
   ]
  },
  {
   "cell_type": "code",
   "execution_count": 4,
   "metadata": {},
   "outputs": [],
   "source": [
    "labl_split = list(df['labl'].str.split())"
   ]
  },
  {
   "cell_type": "code",
   "execution_count": 5,
   "metadata": {},
   "outputs": [
    {
     "data": {
      "text/plain": [
       "[['ABA', 'NORTH'],\n",
       " ['ABA', 'SOUTH'],\n",
       " ['AROCHUKWU'],\n",
       " ['BENDE'],\n",
       " ['IKWUANO'],\n",
       " ['ISIALANGWA', 'NORTH'],\n",
       " ['ISIALANGWA', 'SOUTH'],\n",
       " ['ISIUKWUATO'],\n",
       " ['OBINGWA'],\n",
       " ['OHAFIA']]"
      ]
     },
     "execution_count": 5,
     "metadata": {},
     "output_type": "execute_result"
    }
   ],
   "source": [
    "for sublist in labl_split:\n",
    "    sublist.pop(0)\n",
    "labl_split[:10]"
   ]
  },
  {
   "cell_type": "code",
   "execution_count": 6,
   "metadata": {},
   "outputs": [
    {
     "data": {
      "text/plain": [
       "['ABA NORTH',\n",
       " 'ABA SOUTH',\n",
       " ['AROCHUKWU'],\n",
       " ['BENDE'],\n",
       " ['IKWUANO'],\n",
       " 'ISIALANGWA NORTH',\n",
       " 'ISIALANGWA SOUTH',\n",
       " ['ISIUKWUATO'],\n",
       " ['OBINGWA'],\n",
       " ['OHAFIA']]"
      ]
     },
     "execution_count": 6,
     "metadata": {},
     "output_type": "execute_result"
    }
   ],
   "source": [
    "for i in np.arange(len(labl_split)):\n",
    "    if len(labl_split[i]) > 1:\n",
    "        labl_split[i] = ' '.join(labl_split[i])\n",
    "labl_split[:10]"
   ]
  },
  {
   "cell_type": "code",
   "execution_count": 7,
   "metadata": {},
   "outputs": [],
   "source": [
    "def flatten_list(multilist):\n",
    "    flat_list = []\n",
    "    # Iterate through the outer list\n",
    "    for element in multilist:\n",
    "        if type(element) is list:\n",
    "            # If the element is of type list, iterate through the sublist\n",
    "            for item in element:\n",
    "                flat_list.append(item)\n",
    "        else:\n",
    "            flat_list.append(element)\n",
    "    return flat_list"
   ]
  },
  {
   "cell_type": "code",
   "execution_count": 8,
   "metadata": {},
   "outputs": [
    {
     "data": {
      "text/plain": [
       "['ABA NORTH',\n",
       " 'ABA SOUTH',\n",
       " 'AROCHUKWU',\n",
       " 'BENDE',\n",
       " 'IKWUANO',\n",
       " 'ISIALANGWA NORTH',\n",
       " 'ISIALANGWA SOUTH',\n",
       " 'ISIUKWUATO',\n",
       " 'OBINGWA',\n",
       " 'OHAFIA']"
      ]
     },
     "execution_count": 8,
     "metadata": {},
     "output_type": "execute_result"
    }
   ],
   "source": [
    "new_labels = flatten_list(labl_split)\n",
    "new_labels[:10]"
   ]
  },
  {
   "cell_type": "code",
   "execution_count": 9,
   "metadata": {},
   "outputs": [
    {
     "data": {
      "text/html": [
       "<div>\n",
       "<style scoped>\n",
       "    .dataframe tbody tr th:only-of-type {\n",
       "        vertical-align: middle;\n",
       "    }\n",
       "\n",
       "    .dataframe tbody tr th {\n",
       "        vertical-align: top;\n",
       "    }\n",
       "\n",
       "    .dataframe thead th {\n",
       "        text-align: right;\n",
       "    }\n",
       "</style>\n",
       "<table border=\"1\" class=\"dataframe\">\n",
       "  <thead>\n",
       "    <tr style=\"text-align: right;\">\n",
       "      <th></th>\n",
       "      <th>value</th>\n",
       "      <th>labl</th>\n",
       "      <th>lga</th>\n",
       "    </tr>\n",
       "  </thead>\n",
       "  <tbody>\n",
       "    <tr>\n",
       "      <th>0</th>\n",
       "      <td>101</td>\n",
       "      <td>101. ABA NORTH</td>\n",
       "      <td>ABA NORTH</td>\n",
       "    </tr>\n",
       "    <tr>\n",
       "      <th>1</th>\n",
       "      <td>102</td>\n",
       "      <td>102. ABA SOUTH</td>\n",
       "      <td>ABA SOUTH</td>\n",
       "    </tr>\n",
       "    <tr>\n",
       "      <th>2</th>\n",
       "      <td>103</td>\n",
       "      <td>103. AROCHUKWU</td>\n",
       "      <td>AROCHUKWU</td>\n",
       "    </tr>\n",
       "    <tr>\n",
       "      <th>3</th>\n",
       "      <td>104</td>\n",
       "      <td>104. BENDE</td>\n",
       "      <td>BENDE</td>\n",
       "    </tr>\n",
       "    <tr>\n",
       "      <th>4</th>\n",
       "      <td>105</td>\n",
       "      <td>105. IKWUANO</td>\n",
       "      <td>IKWUANO</td>\n",
       "    </tr>\n",
       "  </tbody>\n",
       "</table>\n",
       "</div>"
      ],
      "text/plain": [
       "  value            labl        lga\n",
       "0   101  101. ABA NORTH  ABA NORTH\n",
       "1   102  102. ABA SOUTH  ABA SOUTH\n",
       "2   103  103. AROCHUKWU  AROCHUKWU\n",
       "3   104      104. BENDE      BENDE\n",
       "4   105    105. IKWUANO    IKWUANO"
      ]
     },
     "execution_count": 9,
     "metadata": {},
     "output_type": "execute_result"
    }
   ],
   "source": [
    "df['lga'] = new_labels\n",
    "df.head()"
   ]
  },
  {
   "cell_type": "code",
   "execution_count": 12,
   "metadata": {},
   "outputs": [],
   "source": [
    "df['lga'] = df['lga'].str.title()"
   ]
  },
  {
   "cell_type": "code",
   "execution_count": 13,
   "metadata": {},
   "outputs": [
    {
     "data": {
      "text/html": [
       "<div>\n",
       "<style scoped>\n",
       "    .dataframe tbody tr th:only-of-type {\n",
       "        vertical-align: middle;\n",
       "    }\n",
       "\n",
       "    .dataframe tbody tr th {\n",
       "        vertical-align: top;\n",
       "    }\n",
       "\n",
       "    .dataframe thead th {\n",
       "        text-align: right;\n",
       "    }\n",
       "</style>\n",
       "<table border=\"1\" class=\"dataframe\">\n",
       "  <thead>\n",
       "    <tr style=\"text-align: right;\">\n",
       "      <th></th>\n",
       "      <th>value</th>\n",
       "      <th>labl</th>\n",
       "      <th>lga</th>\n",
       "    </tr>\n",
       "  </thead>\n",
       "  <tbody>\n",
       "    <tr>\n",
       "      <th>0</th>\n",
       "      <td>101</td>\n",
       "      <td>101. ABA NORTH</td>\n",
       "      <td>Aba North</td>\n",
       "    </tr>\n",
       "    <tr>\n",
       "      <th>1</th>\n",
       "      <td>102</td>\n",
       "      <td>102. ABA SOUTH</td>\n",
       "      <td>Aba South</td>\n",
       "    </tr>\n",
       "    <tr>\n",
       "      <th>2</th>\n",
       "      <td>103</td>\n",
       "      <td>103. AROCHUKWU</td>\n",
       "      <td>Arochukwu</td>\n",
       "    </tr>\n",
       "    <tr>\n",
       "      <th>3</th>\n",
       "      <td>104</td>\n",
       "      <td>104. BENDE</td>\n",
       "      <td>Bende</td>\n",
       "    </tr>\n",
       "    <tr>\n",
       "      <th>4</th>\n",
       "      <td>105</td>\n",
       "      <td>105. IKWUANO</td>\n",
       "      <td>Ikwuano</td>\n",
       "    </tr>\n",
       "  </tbody>\n",
       "</table>\n",
       "</div>"
      ],
      "text/plain": [
       "  value            labl        lga\n",
       "0   101  101. ABA NORTH  Aba North\n",
       "1   102  102. ABA SOUTH  Aba South\n",
       "2   103  103. AROCHUKWU  Arochukwu\n",
       "3   104      104. BENDE      Bende\n",
       "4   105    105. IKWUANO    Ikwuano"
      ]
     },
     "execution_count": 13,
     "metadata": {},
     "output_type": "execute_result"
    }
   ],
   "source": [
    "df.head()"
   ]
  },
  {
   "cell_type": "code",
   "execution_count": 14,
   "metadata": {},
   "outputs": [],
   "source": [
    "df.to_csv('nga_lga_labels.csv', index=False)"
   ]
  },
  {
   "cell_type": "code",
   "execution_count": null,
   "metadata": {},
   "outputs": [],
   "source": []
  }
 ],
 "metadata": {
  "kernelspec": {
   "display_name": "Python 3",
   "language": "python",
   "name": "python3"
  },
  "language_info": {
   "codemirror_mode": {
    "name": "ipython",
    "version": 3
   },
   "file_extension": ".py",
   "mimetype": "text/x-python",
   "name": "python",
   "nbconvert_exporter": "python",
   "pygments_lexer": "ipython3",
   "version": "3.7.1"
  }
 },
 "nbformat": 4,
 "nbformat_minor": 2
}
